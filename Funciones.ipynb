{
  "nbformat": 4,
  "nbformat_minor": 0,
  "metadata": {
    "colab": {
      "provenance": []
    },
    "kernelspec": {
      "name": "python3",
      "display_name": "Python 3"
    },
    "language_info": {
      "name": "python"
    }
  },
  "cells": [
    {
      "cell_type": "code",
      "execution_count": 19,
      "metadata": {
        "colab": {
          "base_uri": "https://localhost:8080/"
        },
        "id": "PbPhegd9NCAA",
        "outputId": "23433551-ce63-40af-d7fd-519a2292d3d0"
      },
      "outputs": [
        {
          "output_type": "stream",
          "name": "stdout",
          "text": [
            "tengo 19 años y mi mejor amigo tiene 17 años\n"
          ]
        }
      ],
      "source": [
        "def CalcularEdad(año, añoNacimiento):\n",
        "  edad= año-añoNacimiento\n",
        "  return edad\n",
        "miedad=CalcularEdad(2022, 2003)\n",
        "edadAmigo=CalcularEdad(2022, 2005)\n",
        "print(\"tengo\",miedad,\"años y mi mejor amigo tiene\",edadAmigo,\"años\")\n"
      ]
    },
    {
      "cell_type": "code",
      "source": [
        "def informacionPersonal ():\n",
        "  nombre=\"Juana de Arco\"\n",
        "  edad=10\n",
        "  país=\"Francia\"\n",
        "  return nombre, edad, país\n",
        "\n",
        "(nombre, edad, país)=informacionPersonal()\n",
        "print(nombre + \", de \" + país +\", tiene \" + str(edad) + \" años de edad.\")\n",
        "\n",
        "\n"
      ],
      "metadata": {
        "colab": {
          "base_uri": "https://localhost:8080/"
        },
        "id": "WUZpbGccTNmz",
        "outputId": "d3fc662a-1b40-42de-e157-83ea34b03744"
      },
      "execution_count": 29,
      "outputs": [
        {
          "output_type": "stream",
          "name": "stdout",
          "text": [
            "Juana de Arco, de Francia, tiene 10 años de edad.\n"
          ]
        }
      ]
    }
  ]
}