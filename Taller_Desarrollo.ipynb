{
  "nbformat": 4,
  "nbformat_minor": 0,
  "metadata": {
    "colab": {
      "provenance": [],
      "collapsed_sections": []
    },
    "kernelspec": {
      "name": "python3",
      "display_name": "Python 3"
    },
    "language_info": {
      "name": "python"
    }
  },
  "cells": [
    {
      "cell_type": "markdown",
      "source": [
        "##Ejercicio 1"
      ],
      "metadata": {
        "id": "qbj-4bJVl4M6"
      }
    },
    {
      "cell_type": "code",
      "execution_count": null,
      "metadata": {
        "colab": {
          "base_uri": "https://localhost:8080/"
        },
        "id": "AgVRFAKmYczS",
        "outputId": "c106113c-32de-4d89-fcac-eb01cec245b2"
      },
      "outputs": [
        {
          "output_type": "stream",
          "name": "stdout",
          "text": [
            "ingresa un número 12\n",
            "ingresa otro número 10\n",
            "12\n"
          ]
        }
      ],
      "source": [
        "def max (a, b):\n",
        "  if a>=b:\n",
        "    return a\n",
        "  else:\n",
        "    return b\n",
        "a=int(input(\"ingresa un número \"))\n",
        "b=int(input(\"ingresa otro número \"))\n",
        "print(max(a, b))"
      ]
    },
    {
      "cell_type": "markdown",
      "source": [
        "##Ejercicio 2"
      ],
      "metadata": {
        "id": "_eoxH1Wtl-oN"
      }
    },
    {
      "cell_type": "code",
      "source": [
        "def max (a,b,c):\n",
        "  if a>=b and a>=c:\n",
        "    return a\n",
        "  elif b>=a and b>=c:\n",
        "    return b\n",
        "  elif c>=a and c>=b:\n",
        "    return c\n",
        "print(\"ingresa tres números\")\n",
        "a=int(input())\n",
        "b=int(input())\n",
        "c=int(input())\n",
        "print(max(a, b, c))"
      ],
      "metadata": {
        "id": "Ifu2gBAhmAmU"
      },
      "execution_count": null,
      "outputs": []
    },
    {
      "cell_type": "markdown",
      "source": [
        "##Ejercicio 3"
      ],
      "metadata": {
        "id": "QkrfLtRVmD8k"
      }
    },
    {
      "cell_type": "code",
      "source": [
        "num=[3,4,5]\n",
        "def funcion(lista):\n",
        "  a=int(num[0])\n",
        "  b=int(num[1])\n",
        "  c=int(num[2])\n",
        "  print(a+b+c)\n",
        "funcion(num)"
      ],
      "metadata": {
        "colab": {
          "base_uri": "https://localhost:8080/"
        },
        "id": "AgNtZlX2mFss",
        "outputId": "26ae5f30-5905-4bd5-a079-40d7d8bba82c"
      },
      "execution_count": null,
      "outputs": [
        {
          "output_type": "stream",
          "name": "stdout",
          "text": [
            "12\n"
          ]
        }
      ]
    },
    {
      "cell_type": "markdown",
      "source": [
        "##Ejercicio 4"
      ],
      "metadata": {
        "id": "VJmism31mSHE"
      }
    },
    {
      "cell_type": "code",
      "source": [
        "num=[3,4,5,6]\n",
        "def funcion(lista):\n",
        "  a=num[0]\n",
        "  b=num[1]\n",
        "  c=num[2]\n",
        "  d=num[3]\n",
        "  print(a+b+c+d)\n",
        "funcion(num)"
      ],
      "metadata": {
        "colab": {
          "base_uri": "https://localhost:8080/"
        },
        "id": "gQeXIgVwmUME",
        "outputId": "ee6f1416-fbd6-4f66-dbc8-25a445488985"
      },
      "execution_count": null,
      "outputs": [
        {
          "output_type": "stream",
          "name": "stdout",
          "text": [
            "18\n"
          ]
        }
      ]
    },
    {
      "cell_type": "markdown",
      "source": [
        "##Ejercicio 5"
      ],
      "metadata": {
        "id": "EFJguuFromBD"
      }
    },
    {
      "cell_type": "code",
      "source": [
        "num=[8,5,3,1]\n",
        "def funcion(lista):\n",
        "  a=num[0]\n",
        "  b=num[1]\n",
        "  c=num[2]\n",
        "  d=num[3]\n",
        "  print(a+b+c+d)\n",
        "funcion(num)"
      ],
      "metadata": {
        "colab": {
          "base_uri": "https://localhost:8080/"
        },
        "id": "Q3Wo_p5Honqq",
        "outputId": "04310aa4-e069-4808-f383-007ce3f4b8a1"
      },
      "execution_count": null,
      "outputs": [
        {
          "output_type": "stream",
          "name": "stdout",
          "text": [
            "17\n"
          ]
        }
      ]
    },
    {
      "cell_type": "markdown",
      "source": [
        "##Ejercicio 6"
      ],
      "metadata": {
        "id": "N6SAwa1yo8_C"
      }
    },
    {
      "cell_type": "code",
      "source": [
        "num=[0,4,5]\n",
        "def funcion(lista):\n",
        "  a=num[0]\n",
        "  b=num[1]\n",
        "  c=num[2]\n",
        "  print(a*b*c)\n",
        "funcion(num)"
      ],
      "metadata": {
        "colab": {
          "base_uri": "https://localhost:8080/"
        },
        "id": "DsVw10Phozka",
        "outputId": "369878fa-bf7c-4e0e-88dc-449e85ef2b7e"
      },
      "execution_count": null,
      "outputs": [
        {
          "output_type": "stream",
          "name": "stdout",
          "text": [
            "0\n"
          ]
        }
      ]
    },
    {
      "cell_type": "markdown",
      "source": [
        "##Ejercicio 7"
      ],
      "metadata": {
        "id": "DusfSInzpAeK"
      }
    },
    {
      "cell_type": "code",
      "source": [
        "num=[3,4,5,1]\n",
        "def funcion(lista):\n",
        "  a=num[0]\n",
        "  b=num[1]\n",
        "  c=num[2]\n",
        "  d=num[3]\n",
        "  print(a*b*c*d)\n",
        "funcion(num)"
      ],
      "metadata": {
        "colab": {
          "base_uri": "https://localhost:8080/"
        },
        "id": "nMUX85hUpB2S",
        "outputId": "518a3ab4-7212-4831-bfbb-e6025df05589"
      },
      "execution_count": null,
      "outputs": [
        {
          "output_type": "stream",
          "name": "stdout",
          "text": [
            "60\n"
          ]
        }
      ]
    },
    {
      "cell_type": "markdown",
      "source": [
        "##Ejercicio 8"
      ],
      "metadata": {
        "id": "KD_Um6RwpP8t"
      }
    },
    {
      "cell_type": "code",
      "source": [
        "num=[1,2,3,-1]\n",
        "def funcion(lista):\n",
        "  a=num[0]\n",
        "  b=num[1]\n",
        "  c=num[2]\n",
        "  d=num[3]\n",
        "  print(a*b*c*d)\n",
        "funcion(num)"
      ],
      "metadata": {
        "colab": {
          "base_uri": "https://localhost:8080/"
        },
        "id": "4hUnV2h6pRaM",
        "outputId": "4924f8cc-e8af-483e-8a78-904ba8c56d67"
      },
      "execution_count": null,
      "outputs": [
        {
          "output_type": "stream",
          "name": "stdout",
          "text": [
            "-6\n"
          ]
        }
      ]
    },
    {
      "cell_type": "markdown",
      "source": [
        "##Ejercicio 9"
      ],
      "metadata": {
        "id": "78hgDfJ0pb7C"
      }
    },
    {
      "cell_type": "code",
      "source": [
        "str=\"hola\"\n",
        "alreves=''.join(reversed(str))\n",
        "print(alreves)\n"
      ],
      "metadata": {
        "colab": {
          "base_uri": "https://localhost:8080/"
        },
        "id": "AIPJvXM8pdx6",
        "outputId": "264883cd-7346-4ce1-9655-1958df84f99f"
      },
      "execution_count": null,
      "outputs": [
        {
          "output_type": "stream",
          "name": "stdout",
          "text": [
            "aloh\n"
          ]
        }
      ]
    },
    {
      "cell_type": "markdown",
      "source": [
        "##Ejercicio 10"
      ],
      "metadata": {
        "id": "SR5a1lPVqr_B"
      }
    },
    {
      "cell_type": "code",
      "source": [
        "def factorial(n):\n",
        "  if n==0 or n==1:\n",
        "    res=1\n",
        "    print(res)\n",
        "  elif n>1:\n",
        "    res=n*factorial(n-1)\n",
        "    print(res)\n",
        "  return res\n",
        "\n",
        "ress=factorial(5)\n",
        "print(ress)"
      ],
      "metadata": {
        "colab": {
          "base_uri": "https://localhost:8080/"
        },
        "id": "e2HFPFdbquYR",
        "outputId": "a09164a1-5d95-4472-c8bd-df35b77b3579"
      },
      "execution_count": null,
      "outputs": [
        {
          "output_type": "stream",
          "name": "stdout",
          "text": [
            "1\n",
            "2\n",
            "6\n",
            "24\n",
            "120\n",
            "120\n"
          ]
        }
      ]
    },
    {
      "cell_type": "markdown",
      "source": [
        "##Ejercicio 11\n"
      ],
      "metadata": {
        "id": "7nL96iPEsJ3a"
      }
    },
    {
      "cell_type": "code",
      "source": [
        "x=list(range(10))\n",
        "z=int(input(\"ingresa un número \"))\n",
        "if z in x:\n",
        "  print(\"si está\")\n",
        "else:\n",
        "  print(\"no está\")"
      ],
      "metadata": {
        "id": "OSv7jLlxsNUI",
        "colab": {
          "base_uri": "https://localhost:8080/"
        },
        "outputId": "7678f85b-85f0-499a-daf1-aa54065ef005"
      },
      "execution_count": 117,
      "outputs": [
        {
          "output_type": "stream",
          "name": "stdout",
          "text": [
            "ingresa un número 3\n",
            "si está\n"
          ]
        }
      ]
    },
    {
      "cell_type": "markdown",
      "source": [
        "##Ejercicio 12"
      ],
      "metadata": {
        "id": "kDuKheHSu1tv"
      }
    },
    {
      "cell_type": "code",
      "source": [
        "c=input(\"ingrese una oración \")\n",
        "ora=0\n",
        "mayu=0\n",
        "minu=0\n",
        "while ora<len(c):\n",
        "  let=c[ora]\n",
        "  if let.isupper()== True:\n",
        "    mayu+=1\n",
        "  else:\n",
        "    minu+=1\n",
        "  ora+=1\n",
        "print(\"mayusculas: \", mayu)\n",
        "print(\"minusculas: \", minu)"
      ],
      "metadata": {
        "colab": {
          "base_uri": "https://localhost:8080/"
        },
        "id": "xX5fvstRu6Md",
        "outputId": "7705d5aa-a6f3-4694-ed47-e3b2c753ab91"
      },
      "execution_count": 118,
      "outputs": [
        {
          "output_type": "stream",
          "name": "stdout",
          "text": [
            "ingrese una oración Hola q HacE\n",
            "mayusculas:  3\n",
            "minusculas:  8\n"
          ]
        }
      ]
    },
    {
      "cell_type": "markdown",
      "source": [
        "##Ejercicio 13"
      ],
      "metadata": {
        "id": "aJ-4updAwaJJ"
      }
    },
    {
      "cell_type": "code",
      "source": [
        "c=input(\"ingrese una oración \")\n",
        "ora=0\n",
        "mayu=0\n",
        "minu=0\n",
        "while ora<len(c):\n",
        "  let=c[ora]\n",
        "  if let.isupper()== True:\n",
        "    mayu+=1\n",
        "  else:\n",
        "    minu+=1\n",
        "  ora+=1\n",
        "print(\"mayusculas: \", mayu)\n",
        "print(\"minusculas: \", minu)"
      ],
      "metadata": {
        "colab": {
          "base_uri": "https://localhost:8080/"
        },
        "id": "nhxYuI2DwdGR",
        "outputId": "23b743a1-7538-4d7d-db78-86f22f70c5bc"
      },
      "execution_count": 119,
      "outputs": [
        {
          "output_type": "stream",
          "name": "stdout",
          "text": [
            "ingrese una oración HOLA q Hace jejeje\n",
            "mayusculas:  5\n",
            "minusculas:  13\n"
          ]
        }
      ]
    }
  ]
}