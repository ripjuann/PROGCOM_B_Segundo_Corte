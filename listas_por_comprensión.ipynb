{
  "nbformat": 4,
  "nbformat_minor": 0,
  "metadata": {
    "colab": {
      "provenance": []
    },
    "kernelspec": {
      "name": "python3",
      "display_name": "Python 3"
    },
    "language_info": {
      "name": "python"
    }
  },
  "cells": [
    {
      "cell_type": "code",
      "source": [
        "#se toma número por número de la lista, cada número se eleva al cuadrado en un rango de 0 a \"a\", si el número es modulo de dos o igual a 0 se imprime jeje\n",
        "a= int(input(\"ingrese un número de veces: \"))\n",
        "lista = [num for num in \n",
        "            [num**2 for num in range(0,a)] \n",
        "                if num % 2 == 0 ]\n",
        "print(lista)"
      ],
      "metadata": {
        "colab": {
          "base_uri": "https://localhost:8080/"
        },
        "id": "sS5qL_zsgtjZ",
        "outputId": "ca0cfcdf-068f-43f4-f65e-7b2426d1c731"
      },
      "execution_count": 16,
      "outputs": [
        {
          "output_type": "stream",
          "name": "stdout",
          "text": [
            "ingrese un número de veces: 50\n",
            "[0, 4, 16, 36, 64, 100, 144, 196, 256, 324, 400, 484, 576, 676, 784, 900, 1024, 1156, 1296, 1444, 1600, 1764, 1936, 2116, 2304]\n"
          ]
        }
      ]
    }
  ]
}