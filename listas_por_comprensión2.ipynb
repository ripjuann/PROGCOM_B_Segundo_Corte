{
  "nbformat": 4,
  "nbformat_minor": 0,
  "metadata": {
    "colab": {
      "provenance": []
    },
    "kernelspec": {
      "name": "python3",
      "display_name": "Python 3"
    },
    "language_info": {
      "name": "python"
    }
  },
  "cells": [
    {
      "cell_type": "markdown",
      "source": [
        "##Ejemplos de Jesus"
      ],
      "metadata": {
        "id": "XSVYH6TGoh1y"
      }
    },
    {
      "cell_type": "code",
      "execution_count": null,
      "metadata": {
        "id": "ZbQkHhxpk0ir"
      },
      "outputs": [],
      "source": [
        "#Comprensión\n",
        "n=int(input(\"Hasta que número quieres imprimir los pares e impares: \"))\n",
        "pares=[número for número in range(0,n+1) if número%2==0]\n",
        "print(pares)\n",
        "impares=[número for número in range(0,n+1) if número%2!=0]\n",
        "print(impares)"
      ]
    },
    {
      "cell_type": "code",
      "source": [
        "#Tradicional\n",
        "num=int(input(\"hasta que número quieres imprimir los pares e impares: \"))\n",
        "def hola(n):\n",
        " pares=[número for número in range(0,n+1) if número%2==0]\n",
        " print(pares)\n",
        " impares=[número for número in range(0,n+1) if número%2!=0]\n",
        " print(impares)\n",
        "hola(num)"
      ],
      "metadata": {
        "id": "j91pd60tmDTV"
      },
      "execution_count": null,
      "outputs": []
    },
    {
      "cell_type": "code",
      "source": [
        "#Lambda\n",
        "num=int(input(\"hasta que número quieres imprimir los pares e impares: \"))\n",
        "mi_lista=[n for n in range(0,num+1)]\n",
        "pares=list(filter(lambda num:num%2==0,mi_lista))\n",
        "print(pares)\n",
        "impares=list(filter(lambda num:num%2!=0,mi_lista))\n",
        "print(impares)"
      ],
      "metadata": {
        "id": "1bz1yqAnmYS4"
      },
      "execution_count": null,
      "outputs": []
    },
    {
      "cell_type": "markdown",
      "source": [
        "##Ejemplos de Samuel"
      ],
      "metadata": {
        "id": "yUfR31ttomiK"
      }
    },
    {
      "cell_type": "code",
      "source": [
        "numbers=[1, 2, 3, 4]\n",
        "results=[n + 1 for n in numbers if n<5]\n",
        "results"
      ],
      "metadata": {
        "colab": {
          "base_uri": "https://localhost:8080/"
        },
        "id": "E7C7yPFKn1H0",
        "outputId": "d1a808ea-031f-48ce-dcfd-a83c997daff0"
      },
      "execution_count": 4,
      "outputs": [
        {
          "output_type": "execute_result",
          "data": {
            "text/plain": [
              "[2, 3, 4, 5]"
            ]
          },
          "metadata": {},
          "execution_count": 4
        }
      ]
    },
    {
      "cell_type": "code",
      "source": [
        "results2=lambda numbers:results\n",
        "print(results2(numbers))"
      ],
      "metadata": {
        "colab": {
          "base_uri": "https://localhost:8080/"
        },
        "id": "6iYq7e9uobbi",
        "outputId": "a2a08d4e-e4fb-44ab-c370-31d7ce4f7160"
      },
      "execution_count": 5,
      "outputs": [
        {
          "output_type": "stream",
          "name": "stdout",
          "text": [
            "[2, 3, 4, 5]\n"
          ]
        }
      ]
    },
    {
      "cell_type": "markdown",
      "source": [
        "##Ejemplos de Jhonsito"
      ],
      "metadata": {
        "id": "HpCsq9O6o_N5"
      }
    },
    {
      "cell_type": "code",
      "source": [
        "def perfecto(número):\n",
        "  perf=0\n",
        "  for i in range(1,número):\n",
        "    if número%i==0:\n",
        "      perf+=i\n",
        "  if perf==número:\n",
        "    print(\"es un número perfecto\")\n",
        "    return True\n",
        "  else:\n",
        "    print(\"no es un número perfecto\")\n",
        "número=6\n",
        "perfecto(número)"
      ],
      "metadata": {
        "id": "t4uQw7o4pD6Z"
      },
      "execution_count": null,
      "outputs": []
    },
    {
      "cell_type": "code",
      "source": [
        "def números():\n",
        "  a=int(input(\"ingresa un número \"))\n",
        "  b=int(input(\"ingresa un número \"))  \n",
        "  c=int(input(\"ingresa un número \"))  \n",
        "  d=int(input(\"ingresa un número \"))\n",
        "  perfect=[a,b,c,d]\n",
        "\n",
        "  perfect1=[elemento for elemento in perfect if perfecto(elemento)==True]\n",
        "números()"
      ],
      "metadata": {
        "id": "K65zX13Ip4lo"
      },
      "execution_count": null,
      "outputs": []
    },
    {
      "cell_type": "code",
      "source": [
        "lista=[2,3,6,4]\n",
        "perfect2=list(map(lambda elemento:perfecto(elemento)==True,lista))\n",
        "perfect2"
      ],
      "metadata": {
        "colab": {
          "base_uri": "https://localhost:8080/"
        },
        "id": "_AomoFmOqblf",
        "outputId": "303821af-9f0a-47dd-a719-8c9425432c89"
      },
      "execution_count": 8,
      "outputs": [
        {
          "output_type": "stream",
          "name": "stdout",
          "text": [
            "no es un número perfecto\n",
            "no es un número perfecto\n",
            "es un número perfecto\n",
            "no es un número perfecto\n"
          ]
        },
        {
          "output_type": "execute_result",
          "data": {
            "text/plain": [
              "[False, False, True, False]"
            ]
          },
          "metadata": {},
          "execution_count": 8
        }
      ]
    },
    {
      "cell_type": "markdown",
      "source": [
        "##Ejemplos de Juan David\n"
      ],
      "metadata": {
        "id": "lH0fpu32qwY8"
      }
    },
    {
      "cell_type": "code",
      "source": [
        "from IPython.lib.security import random\n",
        "numero1=[random]"
      ],
      "metadata": {
        "id": "0mljsBYvq4yc"
      },
      "execution_count": null,
      "outputs": []
    }
  ]
}
