{
  "nbformat": 4,
  "nbformat_minor": 0,
  "metadata": {
    "colab": {
      "provenance": []
    },
    "kernelspec": {
      "name": "python3",
      "display_name": "Python 3"
    },
    "language_info": {
      "name": "python"
    }
  },
  "cells": [
    {
      "cell_type": "code",
      "execution_count": 12,
      "metadata": {
        "id": "Z1lBxQbjz8UG"
      },
      "outputs": [],
      "source": [
        "class Fraccion:\n",
        "\n",
        "  def __init__(self,num,den,pot):\n",
        "   self.num=num\n",
        "   self.den=den\n",
        "   self.pot=pot\n",
        "\n",
        "  def potencia(self):\n",
        "    num=self.num**self.pot\n",
        "    den=self.den**self.pot\n",
        "    pot=self.pot\n",
        "    c=Fraccion(num,den,pot)\n",
        "    print(f'{c.num} / {c.den}')\n",
        "    return c\n",
        "\n",
        "  def suma(self,s):\n",
        "    if self.den==0 or s.den==0:\n",
        "      print(\"No se puede dividir entre 0\")\n",
        "    else:\n",
        "      if self.den!=s.den:\n",
        "        num=(self.num*s.den)+(self.den+s.num)\n",
        "        den=self.den*s.den\n",
        "      else:\n",
        "        num(self.num*s.den)+(self.den*s.num)\n",
        "        den=self.den\n",
        "    f=Fraccion(num,den,1)\n",
        "    print(f'{f.num} / {f.den}')\n",
        "    return f\n",
        "   \n",
        "  def resta(self,s):\n",
        "     if self.den==0 or s.den==0:\n",
        "       print(\"No se puede vivir entre 0\")\n",
        "     else:\n",
        "       if self.den!=s.den:\n",
        "         num=(self.num*s.den)-(self.den*s.num)\n",
        "         den=self.den*s.den\n",
        "       else:\n",
        "          num=(self.num*s.den)-(self.den*s.num)\n",
        "          den=self.den\n",
        "     f=Fraccion(num,den,1)\n",
        "     print(f'{f.num} / {f.den}')\n",
        "     return f \n",
        "\n",
        "  def producto(self,s):\n",
        "       num=self.num*s.num\n",
        "       den=self.num*s.num\n",
        "       fr=Fraccion(num,den,1)\n",
        "       return f\"{fr.num}/{fr.den}\"\n",
        "\n",
        "  def imprimir(self):\n",
        "       print(f'{self.num}/{self.den}')\n",
        "     \n",
        "  def div(self,c):\n",
        "    num=self.num*c.den\n",
        "    den=self.den*c.num\n",
        "    frac=Fraccion(num,den,1)\n",
        "    return f'{frac.num}/{frac.den}'   "
      ]
    },
    {
      "cell_type": "code",
      "source": [
        "s=Fraccion(3,5,8)"
      ],
      "metadata": {
        "id": "0n8h925K4IA1"
      },
      "execution_count": 20,
      "outputs": []
    },
    {
      "cell_type": "code",
      "source": [
        "s.__dict__"
      ],
      "metadata": {
        "colab": {
          "base_uri": "https://localhost:8080/"
        },
        "id": "c6Vuy4rH4LOF",
        "outputId": "823e0284-39f2-474c-ad62-38beb7bbd8bc"
      },
      "execution_count": 21,
      "outputs": [
        {
          "output_type": "execute_result",
          "data": {
            "text/plain": [
              "{'num': 3, 'den': 5, 'pot': 8}"
            ]
          },
          "metadata": {},
          "execution_count": 21
        }
      ]
    },
    {
      "cell_type": "code",
      "source": [
        "s.potencia()"
      ],
      "metadata": {
        "colab": {
          "base_uri": "https://localhost:8080/"
        },
        "id": "No55m-O44PxU",
        "outputId": "a43e0a28-4df7-4675-88bd-53830ae87121"
      },
      "execution_count": 22,
      "outputs": [
        {
          "output_type": "stream",
          "name": "stdout",
          "text": [
            "6561 / 390625\n"
          ]
        },
        {
          "output_type": "execute_result",
          "data": {
            "text/plain": [
              "<__main__.Fraccion at 0x7f3fc433e2d0>"
            ]
          },
          "metadata": {},
          "execution_count": 22
        }
      ]
    },
    {
      "cell_type": "code",
      "source": [
        "t=Fraccion(4,5,1)"
      ],
      "metadata": {
        "id": "Jnq942Fu4TiM"
      },
      "execution_count": 23,
      "outputs": []
    },
    {
      "cell_type": "code",
      "source": [
        "yo=t.resta(s)"
      ],
      "metadata": {
        "colab": {
          "base_uri": "https://localhost:8080/"
        },
        "id": "7bbqcqfV4WlD",
        "outputId": "c4489dd4-7be1-4a70-85c4-a94d9a4739ec"
      },
      "execution_count": 24,
      "outputs": [
        {
          "output_type": "stream",
          "name": "stdout",
          "text": [
            "5 / 5\n"
          ]
        }
      ]
    },
    {
      "cell_type": "code",
      "source": [
        "t.producto(yo)"
      ],
      "metadata": {
        "colab": {
          "base_uri": "https://localhost:8080/",
          "height": 35
        },
        "id": "3Sf458aS4zlP",
        "outputId": "a79d2920-59ac-4e98-b97b-21a0b449b0c4"
      },
      "execution_count": 26,
      "outputs": [
        {
          "output_type": "execute_result",
          "data": {
            "text/plain": [
              "'20/20'"
            ],
            "application/vnd.google.colaboratory.intrinsic+json": {
              "type": "string"
            }
          },
          "metadata": {},
          "execution_count": 26
        }
      ]
    },
    {
      "cell_type": "code",
      "source": [
        "a=t.div(s)"
      ],
      "metadata": {
        "id": "1UUZNlZL47Qr"
      },
      "execution_count": 28,
      "outputs": []
    },
    {
      "cell_type": "code",
      "source": [
        "print(a)"
      ],
      "metadata": {
        "colab": {
          "base_uri": "https://localhost:8080/"
        },
        "id": "0oqKGJxq4987",
        "outputId": "efd8867c-79b3-45e2-a5a4-032fc5637152"
      },
      "execution_count": 29,
      "outputs": [
        {
          "output_type": "stream",
          "name": "stdout",
          "text": [
            "20/15\n"
          ]
        }
      ]
    }
  ]
}