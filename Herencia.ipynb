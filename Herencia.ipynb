{
  "nbformat": 4,
  "nbformat_minor": 0,
  "metadata": {
    "colab": {
      "provenance": []
    },
    "kernelspec": {
      "name": "python3",
      "display_name": "Python 3"
    },
    "language_info": {
      "name": "python"
    }
  },
  "cells": [
    {
      "cell_type": "markdown",
      "source": [
        "#Herencia \n"
      ],
      "metadata": {
        "id": "wIgXAJnjhVUp"
      }
    },
    {
      "cell_type": "code",
      "execution_count": 34,
      "metadata": {
        "id": "1cGhwNwohR7Z"
      },
      "outputs": [],
      "source": [
        "class Humanos():\n",
        "\n",
        "  def __init__(self):\n",
        "     self.nombre=input(\"Ingrese el nombre: \")\n",
        "\n",
        "  def __init__(self,ojos,cabello,boca,orejas,nariz,lengua,cejas,brazos,piernas,sexo):\n",
        "    self.ojos=ojos\n",
        "    self.cabello=cabello\n",
        "    self.boca=boca\n",
        "    self.orejas=orejas\n",
        "    self.nariz=nariz\n",
        "    self.lengua=lengua \n",
        "    self.cejas=cejas\n",
        "    self.brazos=brazos\n",
        "    self.piernas=piernas\n",
        "    self.sexo=sexo \n",
        "\n",
        "  def movilizarse(self,vel): \n",
        "     if vel<0:\n",
        "        print({self.nombre},\" está retrocediendo\")\n",
        "         \n",
        "\n",
        "     elif vel>0 and vel<=1:\n",
        "        return f\"{self.nombre} está gateando\"\n",
        "     elif vel>1 and vel<=5:\n",
        "        return f\"{self.nombre} está caminando\"\n",
        "     elif vel>5 and vel<=5.9:\n",
        "        return f\"{self.nombre} está trotando\"\n",
        "     elif vel>5.9 and vel<=10:\n",
        "        return f\"{self.nombre} está corriendo\"\n",
        "     elif vel>10 and vel<=700:\n",
        "        return f\"{self.nombre} está volando\"\n",
        "     else:\n",
        "        return f\"{self.nombre} posiblemente no es humano\"\n",
        "\n",
        "\n",
        "     if vel<0:\n",
        "       print({self.nombre},\"está retrocediendo\")\n",
        "     else:\n",
        "       print({self.nombre},\"va pa adelante\") \n",
        "\n",
        "  def trabajar(self,trabajo):\n",
        "    trabajos=[\"desempleado\",\"tombo\",\"docente\",\"político\"]\n",
        "    if trabajos[trabajo] in trabajo:\n",
        "      if trabajo==0:\n",
        "         print(self.nombre, \"está\", trabajos[trabajo])\n",
        "      else:\n",
        "         print(self.nombre, \"es\", trabajos[trabajo])\n",
        "\n",
        "       \n",
        "\n"
      ]
    },
    {
      "cell_type": "code",
      "source": [
        "class Sayayin():\n",
        "\n",
        "  def __init__(self,nombre,ojos,cabello,boca,orejas,nariz,lengua,pestañas,cejas,brazos,piernas,sexo):\n",
        "    self.ojos=ojos\n",
        "    self.cojos=\"negros\"\n",
        "    self.nombre=nombre\n",
        "    self.cabello=cabello\n",
        "    self.boca=boca\n",
        "    self.orejas=orejas\n",
        "    self.nariz=nariz\n",
        "    self.lengua=lengua \n",
        "    self.cejas=cejas\n",
        "    self.brazos=brazos\n",
        "    self.piernas=piernas \n",
        "    self.cola_de_mono=True\n",
        "    self.sexo=sexo\n",
        "\n",
        "  def movilizarse(self,vel): \n",
        "     if vel<0:\n",
        "        print({self.nombre},\" está retrocediendo\")\n",
        "         \n",
        "\n",
        "     elif vel>1 and vel<=5:\n",
        "        return f\"{self.nombre} está caminando\"\n",
        "     elif vel>5 and vel<=5.9:\n",
        "        return f\"{self.nombre} está trotando\"\n",
        "     elif vel>5.9 and vel<=100:\n",
        "        return f\"{self.nombre} está corriendo\"\n",
        "     elif vel>100 and vel<=17000:\n",
        "        return f\"{self.nombre} está volando\"\n",
        "     else:\n",
        "        return f\"{self.nombre} posiblemente no es humano\"\n",
        "\n",
        "\n",
        "     if vel<0:\n",
        "       print({self.nombre},\"está retrocediendo\")\n",
        "     else:\n",
        "       print({self.nombre},\"va pa adelante\") \n",
        "\n",
        "  def trabajar(self,trabajo):\n",
        "    trabajos=[\"guerro\",\"cazarrecompensas\",\"granjero\",\"rey\",\"príncipe\"]\n",
        "    if trabajos[trabajo] in trabajo:\n",
        "      if trabajo==0:\n",
        "         print(self.nombre, \"está\", trabajos[trabajo])\n",
        "      else:\n",
        "         print(self.nombre, \"es\", trabajos[trabajo])\n",
        "    else:\n",
        "      print(self.nombre,\"posiblemente no es sayayin\")\n",
        "\n",
        "  def lunallena(self,luna):\n",
        "    if luna and self.cola_de_mono:\n",
        "      print(self.nombre, \"se va a transformar en mono gigante\")\n",
        "    elif luna and self.cola_de_mono==False:\n",
        "      print(self.nombre, \"no se va a transformar en mono gigante\")\n",
        "    else:\n",
        "      print(self.nombre, \"no se va a transformar en mono gigante\")\n",
        "\n"
      ],
      "metadata": {
        "id": "idDoQKNysVlb"
      },
      "execution_count": 35,
      "outputs": []
    },
    {
      "cell_type": "code",
      "source": [
        "from IPython.lib.security import passwd\n",
        "class Hibridos(Sayayin,Humanos):\n",
        "  def poderes():\n",
        "    print(self.nombre, \"puede transformarse en modo bestia\")"
      ],
      "metadata": {
        "id": "1QdZmENSvAMD"
      },
      "execution_count": 36,
      "outputs": []
    },
    {
      "cell_type": "code",
      "source": [
        "gohan=Hibridos(\"gohan\",2,\"Negro\",1,2,1,1,2,2,2,2,\"M\")"
      ],
      "metadata": {
        "id": "cl0WhB_2vSCy"
      },
      "execution_count": 37,
      "outputs": []
    },
    {
      "cell_type": "code",
      "source": [
        "gohan.lunallena(True)\n"
      ],
      "metadata": {
        "id": "g_jfG4CKwIaR",
        "colab": {
          "base_uri": "https://localhost:8080/"
        },
        "outputId": "8d28101c-9b77-49b9-cb9d-224d88acacf4"
      },
      "execution_count": 31,
      "outputs": [
        {
          "output_type": "stream",
          "name": "stdout",
          "text": [
            "gohan se va a transformar en mono gigante\n"
          ]
        }
      ]
    }
  ]
}