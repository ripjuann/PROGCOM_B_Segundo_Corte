{
  "nbformat": 4,
  "nbformat_minor": 0,
  "metadata": {
    "colab": {
      "provenance": []
    },
    "kernelspec": {
      "name": "python3",
      "display_name": "Python 3"
    },
    "language_info": {
      "name": "python"
    }
  },
  "cells": [
    {
      "cell_type": "markdown",
      "source": [
        "##Como usar la comprensión de diccionario para crear un diccionario de Python a partir de una iteración\n",
        "\n",
        "Podemos crear un nuevo diccionario en Python usando solamente un iterable si elegimos generar ya sea las claves o los valores en marcha. Cuando elegimos generar los valores en cuestión, podemos usar los items en el iterable cómo claves, y viceversa. La sintaxis general es mostrada abajo. Por favor, observa que los nombres entre <> son marcadores de posición para los nombres actuales de las variables."
      ],
      "metadata": {
        "id": "tbgaWxTjr-Hn"
      }
    },
    {
      "cell_type": "markdown",
      "source": [
        "##Ejemplos de Jesus"
      ],
      "metadata": {
        "id": "XSVYH6TGoh1y"
      }
    },
    {
      "cell_type": "code",
      "execution_count": null,
      "metadata": {
        "id": "ZbQkHhxpk0ir"
      },
      "outputs": [],
      "source": [
        "#Comprensión\n",
        "n=int(input(\"Hasta que número quieres imprimir los pares e impares: \"))\n",
        "pares=[número for número in range(0,n+1) if número%2==0]\n",
        "print(pares)\n",
        "impares=[número for número in range(0,n+1) if número%2!=0]\n",
        "print(impares)"
      ]
    },
    {
      "cell_type": "code",
      "source": [
        "#Tradicional\n",
        "num=int(input(\"hasta que número quieres imprimir los pares e impares: \"))\n",
        "def hola(n):\n",
        " pares=[número for número in range(0,n+1) if número%2==0]\n",
        " print(pares)\n",
        " impares=[número for número in range(0,n+1) if número%2!=0]\n",
        " print(impares)\n",
        "hola(num)"
      ],
      "metadata": {
        "id": "j91pd60tmDTV"
      },
      "execution_count": null,
      "outputs": []
    },
    {
      "cell_type": "code",
      "source": [
        "#Lambda\n",
        "num=int(input(\"hasta que número quieres imprimir los pares e impares: \"))\n",
        "mi_lista=[n for n in range(0,num+1)]\n",
        "pares=list(filter(lambda num:num%2==0,mi_lista))\n",
        "print(pares)\n",
        "impares=list(filter(lambda num:num%2!=0,mi_lista))\n",
        "print(impares)"
      ],
      "metadata": {
        "id": "1bz1yqAnmYS4"
      },
      "execution_count": null,
      "outputs": []
    },
    {
      "cell_type": "markdown",
      "source": [
        "##Ejemplos de Samuel"
      ],
      "metadata": {
        "id": "yUfR31ttomiK"
      }
    },
    {
      "cell_type": "code",
      "source": [
        "numbers=[1, 2, 3, 4]\n",
        "results=[n + 1 for n in numbers if n<5]\n",
        "results"
      ],
      "metadata": {
        "id": "E7C7yPFKn1H0"
      },
      "execution_count": null,
      "outputs": []
    },
    {
      "cell_type": "code",
      "source": [
        "results2=lambda numbers:results\n",
        "print(results2(numbers))"
      ],
      "metadata": {
        "id": "6iYq7e9uobbi"
      },
      "execution_count": null,
      "outputs": []
    },
    {
      "cell_type": "markdown",
      "source": [
        "##Ejemplos de Jhonsito"
      ],
      "metadata": {
        "id": "HpCsq9O6o_N5"
      }
    },
    {
      "cell_type": "code",
      "source": [
        "def perfecto(número):\n",
        "  perf=0\n",
        "  for i in range(1,número):\n",
        "    if número%i==0:\n",
        "      perf+=i\n",
        "  if perf==número:\n",
        "    print(\"es un número perfecto\")\n",
        "    return True\n",
        "  else:\n",
        "    print(\"no es un número perfecto\")\n",
        "número=6\n",
        "perfecto(número)"
      ],
      "metadata": {
        "id": "t4uQw7o4pD6Z"
      },
      "execution_count": null,
      "outputs": []
    },
    {
      "cell_type": "code",
      "source": [
        "def números():\n",
        "  a=int(input(\"ingresa un número \"))\n",
        "  b=int(input(\"ingresa un número \"))  \n",
        "  c=int(input(\"ingresa un número \"))  \n",
        "  d=int(input(\"ingresa un número \"))\n",
        "  perfect=[a,b,c,d]\n",
        "\n",
        "  perfect1=[elemento for elemento in perfect if perfecto(elemento)==True]\n",
        "números()"
      ],
      "metadata": {
        "id": "K65zX13Ip4lo"
      },
      "execution_count": null,
      "outputs": []
    },
    {
      "cell_type": "code",
      "source": [
        "lista=[2,3,6,4]\n",
        "perfect2=list(map(lambda elemento:perfecto(elemento)==True,lista))\n",
        "perfect2"
      ],
      "metadata": {
        "id": "_AomoFmOqblf"
      },
      "execution_count": null,
      "outputs": []
    },
    {
      "cell_type": "markdown",
      "source": [
        "##Ejemplos de Juan David\n"
      ],
      "metadata": {
        "id": "lH0fpu32qwY8"
      }
    },
    {
      "cell_type": "code",
      "source": [
        "import random\n",
        "numero1=[random.randint(0,2000) for x in range(100)]\n",
        "numero2=[random.randint(0,2000) for x in range(100)]\n",
        "comun=[]\n",
        "for a in numero1:\n",
        "  for b in numero2:\n",
        "    if a==b:\n",
        "      comun.append(a)\n",
        "print(comun)"
      ],
      "metadata": {
        "id": "0mljsBYvq4yc"
      },
      "execution_count": null,
      "outputs": []
    },
    {
      "cell_type": "code",
      "source": [
        "import random \n",
        "numero1=[random.randint(0,2000) for x in range(100)]\n",
        "numero2=[random.randint(0,2000) for x in range(100)]\n",
        "comun=[]\n",
        "comun=list(filter(lambda num:num in numero1,numero2))\n",
        "print(comun)"
      ],
      "metadata": {
        "id": "C-4elFC5onOi"
      },
      "execution_count": null,
      "outputs": []
    },
    {
      "cell_type": "code",
      "source": [
        "import random \n",
        "numero1=[random.randint(0,2000) for x in range(100)]\n",
        "numero2=[random.randint(0,2000) for x in range(100)]\n",
        "comun=[x for x in numero1 for y in numero2 if x==y]\n",
        "print(comun)"
      ],
      "metadata": {
        "id": "ZHe4riRWo9tp"
      },
      "execution_count": null,
      "outputs": []
    },
    {
      "cell_type": "markdown",
      "source": [
        "##Ejemplos de Daniel"
      ],
      "metadata": {
        "id": "iKfw8uhLppq4"
      }
    },
    {
      "cell_type": "code",
      "source": [
        "lambda_func=lambda x:x**2\n",
        "lambda_func(3)"
      ],
      "metadata": {
        "id": "oL499J2IpvSQ"
      },
      "execution_count": null,
      "outputs": []
    },
    {
      "cell_type": "code",
      "source": [
        "def square1(num):\n",
        "  return num**2\n",
        "print(square1(5))"
      ],
      "metadata": {
        "id": "B9peCugErid0"
      },
      "execution_count": null,
      "outputs": []
    },
    {
      "cell_type": "code",
      "source": [
        "L=[1,2,3,4]\n",
        "L2=[n**2 for n in L]\n",
        "print(L2)"
      ],
      "metadata": {
        "id": "HAX26ZOVrzXK"
      },
      "execution_count": null,
      "outputs": []
    },
    {
      "cell_type": "markdown",
      "source": [
        "##Ejemplos de Angie "
      ],
      "metadata": {
        "id": "gKqaclwZsGpf"
      }
    },
    {
      "cell_type": "code",
      "source": [
        "nom1=['Samuelle','Angie','Valentina','Alejandro','Jonsito']\n",
        "nom2=['Samuelle','Andrea','Samdra','Anderson','Jonsito']"
      ],
      "metadata": {
        "id": "gfHOhvXpsbQv"
      },
      "execution_count": null,
      "outputs": []
    },
    {
      "cell_type": "code",
      "source": [
        "common={a for a in nom1 for b in nom2 if a==b}\n",
        "common"
      ],
      "metadata": {
        "id": "L4_xalzvtAOk"
      },
      "execution_count": null,
      "outputs": []
    },
    {
      "cell_type": "code",
      "source": [
        "common1=lambda nom1,nom2:common\n",
        "print(common1(nom1,nom2))"
      ],
      "metadata": {
        "id": "d9s0QtrCtNZy"
      },
      "execution_count": null,
      "outputs": []
    },
    {
      "cell_type": "code",
      "source": [
        "def common(nom1,nom2):\n",
        "  return nom1,nom2"
      ],
      "metadata": {
        "id": "GiHpoYc2tW9z"
      },
      "execution_count": null,
      "outputs": []
    },
    {
      "cell_type": "code",
      "source": [
        "nom1,nom2"
      ],
      "metadata": {
        "colab": {
          "base_uri": "https://localhost:8080/"
        },
        "id": "Nb_Wj0v4tj-i",
        "outputId": "5fc9d767-9801-499b-85e2-748d2fc9e5ef"
      },
      "execution_count": null,
      "outputs": [
        {
          "output_type": "execute_result",
          "data": {
            "text/plain": [
              "(['Samuelle', 'Angie', 'Valentina', 'Alejandro', 'Jonsito'],\n",
              " ['Samuelle', 'Andrea', 'Samdra', 'Anderson', 'Jonsito'])"
            ]
          },
          "metadata": {},
          "execution_count": 13
        }
      ]
    },
    {
      "cell_type": "markdown",
      "source": [
        "##Ejemplos de Valentina\n",
        "\n"
      ],
      "metadata": {
        "id": "DGmqt55DtoiA"
      }
    },
    {
      "cell_type": "code",
      "source": [
        "def listaIMC(usuarios):\n",
        "  sis=[]\n",
        "  imc=[]\n",
        "  b=0\n",
        "  a2=0\n",
        "  for n in range (usuarios):\n",
        "    w=input(\"¿Cuál es tu nombre? \")\n",
        "    b=int(input(\"Ingresa el peso \"))\n",
        "    a2=int(input(\"Ingresa la altura \"))\n",
        "    sis.append((w,b/a2**2))\n",
        "    imc.append(b/a2**2)\n",
        "  return sis,imc\n",
        "\n",
        "\n",
        "user=int(input(\"¿Cuantos usuarios hay? \"))\n",
        "\n",
        "sis,imc=listaIMC(user)"
      ],
      "metadata": {
        "colab": {
          "base_uri": "https://localhost:8080/"
        },
        "id": "eBvdhmsxwKNc",
        "outputId": "7cd38dce-67b2-49ea-c103-65d8bb682f5c"
      },
      "execution_count": null,
      "outputs": [
        {
          "name": "stdout",
          "output_type": "stream",
          "text": [
            "¿Cuantos usuarios hay? 1\n",
            "¿Cuál es tu nombre? juan\n",
            "Ingresa el peso 80\n",
            "Ingresa la altura 170\n"
          ]
        }
      ]
    },
    {
      "cell_type": "code",
      "source": [
        "imc"
      ],
      "metadata": {
        "colab": {
          "base_uri": "https://localhost:8080/"
        },
        "id": "kHPb-wDpx5fS",
        "outputId": "d5d42f8f-a67f-47d9-b2cb-3ac28f321d61"
      },
      "execution_count": null,
      "outputs": [
        {
          "output_type": "execute_result",
          "data": {
            "text/plain": [
              "[0.002768166089965398]"
            ]
          },
          "metadata": {},
          "execution_count": 20
        }
      ]
    },
    {
      "cell_type": "code",
      "source": [
        "sis=listaIMC(user)\n",
        "sis2=[n for n in imc if n>=18.5]\n",
        "print(sis2)"
      ],
      "metadata": {
        "colab": {
          "base_uri": "https://localhost:8080/"
        },
        "id": "9qTTAAhax8YY",
        "outputId": "8a51dd33-f1f2-4902-c9eb-fb6bd8e2f25a"
      },
      "execution_count": null,
      "outputs": [
        {
          "output_type": "stream",
          "name": "stdout",
          "text": [
            "¿Cuál es tu nombre? juan\n",
            "Ingresa el peso 80\n",
            "Ingresa la altura 170\n",
            "[]\n"
          ]
        }
      ]
    },
    {
      "cell_type": "code",
      "source": [
        "sis"
      ],
      "metadata": {
        "colab": {
          "base_uri": "https://localhost:8080/"
        },
        "id": "jKUramkayhzB",
        "outputId": "4ea353ce-0f96-45cf-82e2-dd3fb3a14a01"
      },
      "execution_count": null,
      "outputs": [
        {
          "output_type": "execute_result",
          "data": {
            "text/plain": [
              "([('juan', 0.002768166089965398)], [0.002768166089965398])"
            ]
          },
          "metadata": {},
          "execution_count": 22
        }
      ]
    },
    {
      "cell_type": "code",
      "source": [
        "sis3=list(map(lambda x:\"peso insuficiente\" if x<18.5 else \"peso normal\" if (x>=18.5 and x<24.9) else \"sobrepeso\" if (x>=24.9 and x<30) else \"obesidad\",imc))\n",
        "sis3"
      ],
      "metadata": {
        "colab": {
          "base_uri": "https://localhost:8080/"
        },
        "id": "a8dbeKrRyj7h",
        "outputId": "5bd8e0c7-ddd1-45c3-c92e-1ce769421279"
      },
      "execution_count": null,
      "outputs": [
        {
          "output_type": "execute_result",
          "data": {
            "text/plain": [
              "['peso insuficiente']"
            ]
          },
          "metadata": {},
          "execution_count": 24
        }
      ]
    },
    {
      "cell_type": "markdown",
      "source": [
        "##Ejemplos de lowis"
      ],
      "metadata": {
        "id": "I1rJ0hOwzMGn"
      }
    },
    {
      "cell_type": "code",
      "source": [
        "print(\"ingrese su código \")\n",
        "caracter=input()\n",
        "if len(caracter)==8:\n",
        "  if caracter[0]=='u':\n",
        "   print(\"Eres estudiante Unab\")\n",
        "  elif(caracter.startswith(\"a000\")):\n",
        "    print(\"Eres estudiante de los Andes\")\n",
        "  else:\n",
        "    if(int(caracter)>=1950):\n",
        "      print(\"Eres estudiante UIS\")\n",
        "else:\n",
        "  print(\"No corresponde a ninguna universidad, revisa tú código\")"
      ],
      "metadata": {
        "colab": {
          "base_uri": "https://localhost:8080/"
        },
        "id": "jzt2SADizOzv",
        "outputId": "35e1584c-2549-4c96-89cb-4d1b8620f976"
      },
      "execution_count": null,
      "outputs": [
        {
          "output_type": "stream",
          "name": "stdout",
          "text": [
            "ingrese su código \n",
            "a0001256\n",
            "Eres estudiante de los Andes\n"
          ]
        }
      ]
    },
    {
      "cell_type": "code",
      "source": [
        "universidades=[\"unab\",\"uis\",\"andes\"]\n",
        "codigo=[\"U0123456\",\"198562\",\"a0005645\"]\n",
        "\n",
        "u=[cod for cod in codigo if (cod[0]=='u' and len(cod)==8)]\n",
        "print(u)"
      ],
      "metadata": {
        "colab": {
          "base_uri": "https://localhost:8080/"
        },
        "id": "mhc9wIB906FX",
        "outputId": "1af688d4-91cc-4ab6-f89b-37116883aea2"
      },
      "execution_count": null,
      "outputs": [
        {
          "output_type": "stream",
          "name": "stdout",
          "text": [
            "[]\n"
          ]
        }
      ]
    },
    {
      "cell_type": "code",
      "source": [
        "y=list(map(lambda x:\"unab\" if (x[0]==\"U\" or x[0]==\"u\") else None, codigo))\n",
        "print(y)"
      ],
      "metadata": {
        "colab": {
          "base_uri": "https://localhost:8080/"
        },
        "id": "TXt0sZo62w9k",
        "outputId": "ebd1066e-4ec0-463c-8749-21bdd3d507e0"
      },
      "execution_count": null,
      "outputs": [
        {
          "output_type": "stream",
          "name": "stdout",
          "text": [
            "['unab', None, None]\n"
          ]
        }
      ]
    },
    {
      "cell_type": "markdown",
      "source": [
        "##Ejemplos de Cristhian"
      ],
      "metadata": {
        "id": "YGG75QVv3_hi"
      }
    },
    {
      "cell_type": "code",
      "source": [
        "#normal\n",
        "lista=[]\n",
        "x = 0\n",
        "while x==0:\n",
        "  entrada = input(\"Ingresa un codigo\")\n",
        "  lista.append(entrada)\n",
        "  a=int(input(\"¿Deseas ingresa otro?, Ingresa 0 si lo deseas, sino ingresa 1\"))\n",
        "  if (a==1):\n",
        "    x=x+1\n",
        "\n",
        "clasificacion = [a for a in lista if a.startswith(\"U00\") or a.startswith('u00') and len(a)==9]\n",
        "print(f'Hay {len(clasificacion)} estudiante(s) de la Unab y sus codigo(s) son {clasificacion}')\n",
        "\n",
        "clasificacion = [a for a in lista if a.startswith(\"A000\") or a.startswith('a000') and len(a)==9]\n",
        "print(f'Hay {len(clasificacion)} estudiante(s) de los Andes y sus codigo(s) son {clasificacion}')"
      ],
      "metadata": {
        "id": "Wp2U_N0Q4DeU"
      },
      "execution_count": null,
      "outputs": []
    },
    {
      "cell_type": "code",
      "source": [
        "#con def\n",
        "def funcion(lista, numDigitos, Universidad,clasCodigo, min):\n",
        "  clasificacion = [a for a in lista if a.startswith(clasCodigo) or a.startswith(min) and len(a)==numDigitos]\n",
        "  print(f'Hay {len(clasificacion)} estudiante(s) de {Universidad} y sus codigo(s) son {clasificacion}')\n",
        "\n",
        "lista=[]\n",
        "x = 0\n",
        "while x==0:\n",
        "  entrada = input(\"Ingresa un codigo\")\n",
        "  lista.append(entrada)\n",
        "  a=int(input(\"¿Deseas ingresa otro?, Ingresa 0 si lo deseas, sino ingresa 1\"))\n",
        "  if (a==1):\n",
        "    x=x+1\n",
        "\n",
        "funcion(lista,9,'la Unab','U00', 'u00')\n",
        "funcion(lista,9,'los Andes','A000', 'a000')"
      ],
      "metadata": {
        "id": "lcDkNiOcssiP"
      },
      "execution_count": null,
      "outputs": []
    },
    {
      "cell_type": "code",
      "source": [
        "#con lambda\n",
        "lista=[]\n",
        "x = 0\n",
        "while x==0:\n",
        "  entrada = input(\"Ingresa un codigo\")\n",
        "  lista.append(entrada)\n",
        "  a=int(input(\"¿Deseas ingresa otro?, Ingresa 0 si lo deseas, sino ingresa 1\"))\n",
        "  if (a==1):\n",
        "    x=x+1\n",
        "lista1=[\"u00013246\",\"a001234643\",\"U00156837\"]\n",
        "clasificacion = list(map(lambda a:\"UNAB\" if a.startswith(\"U00\") or a.startswith(\"u00\")  else 'Los Andes' if a.startswith(\"A000\") or a.startswith(\"a000\") else None ,lista))\n",
        "clasificacion"
      ],
      "metadata": {
        "id": "s39MWKzzsu8P"
      },
      "execution_count": null,
      "outputs": []
    },
    {
      "cell_type": "markdown",
      "source": [
        "##Ejemplos de Armith"
      ],
      "metadata": {
        "id": "qf4pdpcu5diC"
      }
    },
    {
      "cell_type": "code",
      "source": [
        "#Tradicional\n",
        "num=[1,2,3,4,5,6,7,8,9,10]\n",
        "exp=int(input(\"Escriba su exponente: \"))\n",
        "x=len(num)\n",
        "for n in range(1,(x)):\n",
        "  num[n]=num[n]**exp\n",
        "print(num)\n",
        "def imprimir(num):\n",
        "  s=1\n",
        "  for i in num:\n",
        "    print(f\"\\nEl resultado del elemento {s} de la lista es {i}\")\n",
        "    s+=1\n",
        "\n",
        "imprimir(num)"
      ],
      "metadata": {
        "id": "hV8Xsa065ijI"
      },
      "execution_count": null,
      "outputs": []
    },
    {
      "cell_type": "code",
      "source": [
        "#Por comprensión\n",
        "num=[1,2,3,4,5,6,7,8,9,10]\n",
        "exp=int(input(\"Escriba su exponente: \"))\n",
        "numeros=lambda num,exp:(n**exp for n in num)\n",
        "numero1=numeros(num,exp)\n",
        "imprimir(list(numero1))"
      ],
      "metadata": {
        "id": "OAanzsLvNbZH"
      },
      "execution_count": null,
      "outputs": []
    },
    {
      "cell_type": "code",
      "source": [
        "#Lambda\n",
        "num=list(range(1,11))\n",
        "exp=int(input(\"Escriba su exponente: \"))\n",
        "numeros=lambda num,exp:(n**exp for n in num)\n",
        "numero1=numeros(num,exp)\n",
        "imprimir(list(numero1))"
      ],
      "metadata": {
        "id": "dZh4qnVCN5_Y"
      },
      "execution_count": null,
      "outputs": []
    },
    {
      "cell_type": "markdown",
      "source": [
        "##Ejemplos de Santiago"
      ],
      "metadata": {
        "id": "mUTHS8C_IUd7"
      }
    },
    {
      "cell_type": "code",
      "source": [
        "#Comprensión \n",
        "import random \n",
        "clientes = [\"Alex\", \"Bob\", \"Carol\", \"Dave\", \"Flow\", \"Katie\", \"Nate\"]\n",
        "diccionario_descuentos= {cliente:random.randint(1,100) for cliente in clientes}\n",
        "print(diccionario_descuentos)"
      ],
      "metadata": {
        "colab": {
          "base_uri": "https://localhost:8080/"
        },
        "id": "IkQmarIcIaGA",
        "outputId": "f76b69d0-22c1-4780-9a0f-e92865ed7647"
      },
      "execution_count": 1,
      "outputs": [
        {
          "output_type": "stream",
          "name": "stdout",
          "text": [
            "{'Alex': 65, 'Bob': 94, 'Carol': 9, 'Dave': 17, 'Flow': 74, 'Katie': 5, 'Nate': 65}\n"
          ]
        }
      ]
    },
    {
      "cell_type": "code",
      "source": [
        "#Por Lambda\n",
        "import random\n",
        "clientes = [\"Alex\", \"Bob\", \"Carol\", \"Dave\", \"Flow\", \"Katie\", \"Nate\"]\n",
        "diccionario_descuentos = (dict(map(lambda diccionario_descuentos:(diccionario_descuentos,random.randint(1,100)),clientes)))\n",
        "print(diccionario_descuentos)"
      ],
      "metadata": {
        "colab": {
          "base_uri": "https://localhost:8080/"
        },
        "id": "RhpNBIBsJuVE",
        "outputId": "f59753ea-1b5f-452d-f209-cc8d2f9c3104"
      },
      "execution_count": 3,
      "outputs": [
        {
          "output_type": "stream",
          "name": "stdout",
          "text": [
            "{'Alex': 2, 'Bob': 51, 'Carol': 32, 'Dave': 1, 'Flow': 58, 'Katie': 89, 'Nate': 51}\n"
          ]
        }
      ]
    },
    {
      "cell_type": "markdown",
      "source": [
        "##Ejemplos de Juan David Vargas"
      ],
      "metadata": {
        "id": "koKMvHkeMtV3"
      }
    },
    {
      "cell_type": "code",
      "source": [
        "Productos =['milk','bread','butter','apple','watermelon','banana','candy','water','ice cream','sugar']\n",
        "precio =[3,4,10,2,5,4.5,3.2,9,5,6.5]\n",
        "#La función zip comprime las 2 listas, convirtiendolas en pares key_value.\n",
        "#\n",
        "precio_productos = {Productos:precio for (Productos,precio) in zip(Productos,precio)}\n",
        "\n",
        "print(precio_productos)"
      ],
      "metadata": {
        "id": "o_DSdTJiM0Nv"
      },
      "execution_count": null,
      "outputs": []
    },
    {
      "cell_type": "code",
      "source": [
        "#Quiero hacerles un descuento a los productos que valen menos de 5 y ubicarlos dentro de otro diccionario.\n",
        "#Hice un diccionario a partir de otro diccionario.\n",
        "Descuentos = {Productos:precio for (Productos,precio) in precio_productos.items() if precio<5}\n",
        "\n",
        "print(Descuentos)"
      ],
      "metadata": {
        "id": "8kf7unY8QcXk"
      },
      "execution_count": null,
      "outputs": []
    },
    {
      "cell_type": "markdown",
      "source": [
        "##Ejemplos de Jaime"
      ],
      "metadata": {
        "id": "Qm54fzx8Kghn"
      }
    },
    {
      "cell_type": "code",
      "source": [
        "#Comprensión\n",
        "Productos={'papas':1300,'jugos':1800,'helados':2300,'dulces':800,'leche':4200}\n",
        "Operación={x:y*1.19 for (x,y) in Productos.items()}\n",
        "print(f'El precio sin IVA de los productos es: {Productos}')\n",
        "print('▲▼'*60)\n",
        "print(f'El precio con IVA de los productos es: {Operación}')"
      ],
      "metadata": {
        "colab": {
          "base_uri": "https://localhost:8080/"
        },
        "id": "3RmKfAA3KldW",
        "outputId": "28ecf78a-2bb3-4c06-d797-8b45e6c8dd9c"
      },
      "execution_count": 4,
      "outputs": [
        {
          "output_type": "stream",
          "name": "stdout",
          "text": [
            "El precio sin IVA de los productos es: {'papas': 1300, 'jugos': 1800, 'helados': 2300, 'dulces': 800, 'leche': 4200}\n",
            "▲▼▲▼▲▼▲▼▲▼▲▼▲▼▲▼▲▼▲▼▲▼▲▼▲▼▲▼▲▼▲▼▲▼▲▼▲▼▲▼▲▼▲▼▲▼▲▼▲▼▲▼▲▼▲▼▲▼▲▼▲▼▲▼▲▼▲▼▲▼▲▼▲▼▲▼▲▼▲▼▲▼▲▼▲▼▲▼▲▼▲▼▲▼▲▼▲▼▲▼▲▼▲▼▲▼▲▼▲▼▲▼▲▼▲▼▲▼▲▼\n",
            "El precio con IVA de los productos es: {'papas': 1547.0, 'jugos': 2142.0, 'helados': 2737.0, 'dulces': 952.0, 'leche': 4998.0}\n"
          ]
        }
      ]
    },
    {
      "cell_type": "code",
      "source": [
        "#Lambda\n",
        "tienda={'papas':1300,'jugos':1800,'helados':2300,'dulces':800,'leche':4200}\n",
        "compra=['papas','jugos','helados','dulces','leche']\n",
        "IVA=dict(map(lambda producto:(producto, tienda[producto]) if producto in tienda else (producto, None), compra))\n",
        "IVA"
      ],
      "metadata": {
        "colab": {
          "base_uri": "https://localhost:8080/"
        },
        "id": "MoEp4cSKMbhv",
        "outputId": "2208d999-e27a-4a7a-caab-8578b65580c6"
      },
      "execution_count": 5,
      "outputs": [
        {
          "output_type": "execute_result",
          "data": {
            "text/plain": [
              "{'papas': 1300, 'jugos': 1800, 'helados': 2300, 'dulces': 800, 'leche': 4200}"
            ]
          },
          "metadata": {},
          "execution_count": 5
        }
      ]
    },
    {
      "cell_type": "markdown",
      "source": [
        "##Ejemplos de Leandro"
      ],
      "metadata": {
        "id": "M7Fieij1MgxY"
      }
    },
    {
      "cell_type": "code",
      "source": [
        "#Dictionaries using an expression, weather cities en F° and C°\n",
        "\n",
        "def check_temp(value):\n",
        "  if value >= 70:\n",
        "    return \"hot\"\n",
        "  elif 69 >= value >= 40:\n",
        "    return \"warn\"\n",
        "  else:\n",
        "    return \"cold\"\n",
        "\n",
        "cities = {\"New York\": 32, \"Boston\": 75, \"Los Angeles\": 100, \"Chicago\":50}\n",
        "des_cities = {key: check_temp(value) for (key,value) in cities.items()}\n",
        "print(des_cities)"
      ],
      "metadata": {
        "colab": {
          "base_uri": "https://localhost:8080/"
        },
        "id": "LIoVeA4AModH",
        "outputId": "2509b95a-c8fa-427d-daa9-f23f33200070"
      },
      "execution_count": 13,
      "outputs": [
        {
          "output_type": "stream",
          "name": "stdout",
          "text": [
            "{'New York': 'cold', 'Boston': 'hot', 'Los Angeles': 'hot', 'Chicago': 'warn'}\n"
          ]
        }
      ]
    },
    {
      "cell_type": "code",
      "source": [
        "#Dictionaries using an expression, weather cities en F° and C°\n",
        "\n",
        "def check_temp(value):\n",
        "  if value >= 70:\n",
        "    return \"hot\"\n",
        "  elif 69 >= value >= 40:\n",
        "    return \"warn\"\n",
        "  else:\n",
        "    return \"cold\"\n",
        "\n",
        "cities = {\"New York\": 32, \"Boston\": 75, \"Los Angeles\": 100, \"Chicago\":50}\n",
        "des_cities = dict[map(lambda cit: check_temp(cities.values(cit), cities.items()))]\n",
        "#Another form\n",
        "des_cities ={key: check_temp(value) for (key,value) in cities.items()}\n",
        "print(des_cities)"
      ],
      "metadata": {
        "id": "E_9SXsctPmrj"
      },
      "execution_count": null,
      "outputs": []
    },
    {
      "cell_type": "markdown",
      "source": [
        "##Ejemplos de Sebastian "
      ],
      "metadata": {
        "id": "gX60ETFmS62j"
      }
    },
    {
      "cell_type": "code",
      "source": [
        "#Diccionarios por tradicional\n",
        "import random \n",
        "compañeros=[]\n",
        "def aleatorios(opciones):\n",
        "  opciones = list(opciones)\n",
        "  while True:\n",
        "    x = random.choice(opciones)\n",
        "    opciones.remove(x)\n",
        "    yield x\n",
        "print(\"para no agregar más nombres escribe '0'\")\n",
        "a=\"t\"\n",
        "while a!=\"0\":\n",
        "  a=(input(\"Ingresa el nombre de tu compañero: \"))\n",
        "  if a!=\"0\":\n",
        "    compañeros.append(a)\n",
        "cantidad=len(compañeros)\n",
        "contador=0\n",
        "numeros=[]\n",
        "while contador != (cantidad+1):\n",
        "  contador+=1\n",
        "  numeros.append(contador)\n",
        "alt = aleatorios(numeros)\n",
        "num_alt={}\n",
        "for s in range(cantidad):\n",
        "  num_alt[compañeros[s]]=next(alt)\n",
        "print(num_alt)"
      ],
      "metadata": {
        "id": "X1gKAVDiS93y"
      },
      "execution_count": null,
      "outputs": []
    },
    {
      "cell_type": "code",
      "source": [
        "#Diccionarios por comprensión\n",
        "import random \n",
        "compañeros=[]\n",
        "def aleatorios(opciones):\n",
        "  opciones = list(opciones)\n",
        "  while True:\n",
        "    x = random.choice(opciones)\n",
        "    opciones.remove(x)\n",
        "    yield x\n",
        "print(\"para no agregar más nombres escribe '0'\")\n",
        "a=\"t\"\n",
        "while a!=\"0\":\n",
        "  a=(input(\"Ingresa el nombre de tu compañero: \"))\n",
        "  if a!=\"0\":\n",
        "    compañeros.append(a)\n",
        "cantidad=len(compañeros)\n",
        "numeros=[num for num in range(1, (cantidad+1))]\n",
        "alt = aleatorios(numeros)\n",
        "num_alt= {orden:next(alt) for orden in compañeros }\n",
        "print(num_alt)"
      ],
      "metadata": {
        "id": "IGfbyILnWERX"
      },
      "execution_count": null,
      "outputs": []
    },
    {
      "cell_type": "code",
      "source": [
        "#Diccionario por lambda\n",
        "import random \n",
        "compañeros=[]\n",
        "def aleatorios(opciones):\n",
        "  opciones = list(opciones)\n",
        "  while True:\n",
        "    x = random.choice(opciones)\n",
        "    opciones.remove(x)\n",
        "    yield x\n",
        "print(\"para no agregar más nombres escribe '0'\")\n",
        "a=\"t\"\n",
        "while a!=\"0\":\n",
        "  a=(input(\"Ingresa el nombre de tu compañero: \"))\n",
        "  if a!=\"0\":\n",
        "    compañeros.append(a)\n",
        "cantidad=len(compañeros)\n",
        "valores=[n for n in range (1, cantidad+1)]\n",
        "numeros=list(map(lambda num:num,valores))\n",
        "alt=aleatorios(numeros)\n",
        "num_alt=dict(map(lambda orden:(orden, next(alt)), compañeros))\n",
        "print(num_alt)"
      ],
      "metadata": {
        "id": "624JkaReWyj0"
      },
      "execution_count": null,
      "outputs": []
    },
    {
      "cell_type": "markdown",
      "source": [
        "##Ejemplos de Daniel "
      ],
      "metadata": {
        "id": "xOFbnXjpXmGH"
      }
    },
    {
      "cell_type": "code",
      "source": [
        "#Por comprensión \n",
        "import random\n",
        "diccionario=[\"clientes 1\",\"clientes 2\",\"clientes 3\",\"clientes 4\",\"clientes 5\"]\n",
        "tienda={diccionario: random.randint(1000,100000) for diccionario in diccionario}\n",
        "tienda_sort=sorted(tienda.values())\n",
        "mayor=tienda_sort[-1]\n",
        "mayor1=tienda_sort[4::]\n",
        "cliente=list(tienda.values()).index(mayor)\n",
        "if cliente==0:\n",
        "  a=\"cliente 1\"\n",
        "if cliente==1:\n",
        "  a=\"cliente 2\"\n",
        "if cliente==2:\n",
        "  a=\"cliente 3\"\n",
        "if cliente==3:\n",
        "  a=\"cliente 4\"\n",
        "if cliente==4:\n",
        "  a=\"cliente 5\"\n",
        "oferta={producto*0.8 for producto in mayor1}\n",
        "print(f\"El {a} tuvo la mayor compra con un valor de: {mayor}, por lo tanto obtuvo un descuentodel 20%, su total fue: {oferta}\")\n",
        "\n"
      ],
      "metadata": {
        "id": "hmOzvC4pXp6l"
      },
      "execution_count": null,
      "outputs": []
    },
    {
      "cell_type": "code",
      "source": [
        "#Por función \n",
        "import random\n",
        "diccionario=[\"clientes 1\",\"clientes 2\",\"clientes 3\",\"clientes 4\",\"clientes 5\"]\n",
        "def cositas (a):\n",
        " tienda={diccionario: random.randint(1000,100000) for diccionario in diccionario}\n",
        " tienda_sort=sorted(tienda.values())\n",
        " mayor=tienda_sort[-1]\n",
        " mayor1=tienda_sort[4::]\n",
        " cliente=list(tienda.values()).index(mayor)\n",
        " if cliente==0:\n",
        "   a=\"cliente 1\"\n",
        " if cliente==1:\n",
        "   a=\"cliente 2\"\n",
        " if cliente==2:\n",
        "   a=\"cliente 3\"\n",
        " if cliente==3:\n",
        "   a=\"cliente 4\"\n",
        " if cliente==4:\n",
        "   a=\"cliente 5\"\n",
        " oferta={producto*0.8 for producto in mayor1}\n",
        " print(f\"El {a} tuvo la mayor compra con un valor de: {mayor}, por lo tanto obtuvo un descuentodel 20%, su total fue: {oferta}\")\n",
        "cositas(diccionario)"
      ],
      "metadata": {
        "id": "Bhkc1Pm-Zxtc"
      },
      "execution_count": null,
      "outputs": []
    },
    {
      "cell_type": "code",
      "source": [
        "#Por Lambda\n",
        "import random\n",
        "diccionario=[\"clientes 1\",\"clientes 2\",\"clientes 3\",\"clientes 4\",\"clientes 5\"]\n",
        "tienda={diccionario: random.randint(1000,100000) for diccionario in diccionario}\n",
        "tienda_sort=sorted(tienda.values())\n",
        "mayor=tienda_sort[-1]\n",
        "mayor1=tienda_sort[4::]\n",
        "cliente=list(tienda.values()).index(mayor)\n",
        "oferta={producto*0.8 for producto in mayor1}\n",
        "cositas=max(tienda,key=tienda.get)\n",
        "print(f\"El {cositas} tuvo la mayor compra con un valor de: {mayor}, por lo tanto obtuvo un descuento del 20%, su total fue: {oferta}\")"
      ],
      "metadata": {
        "id": "aHu0SpJyawy-"
      },
      "execution_count": null,
      "outputs": []
    },
    {
      "cell_type": "markdown",
      "source": [
        "##Ejemplos de Adrián"
      ],
      "metadata": {
        "id": "aePaSCXvb1Qx"
      }
    },
    {
      "cell_type": "code",
      "source": [
        "#comprensión \n",
        "nombre=str(input(\"ingrese el nombre del atleta: \"))\n",
        "N=int(input(\"ingrese el número de saltos: \"))\n",
        "\n",
        "def fun(nombre,a):\n",
        "  lista=[]\n",
        "  for i in range(0,a):\n",
        "    name=str(f\"salto {i+1}\")\n",
        "    lista.append(name)\n",
        "  \n",
        "  print(\"--------------\")\n",
        "  print(\"La altura de los saltos se mide en metros\")\n",
        "  dic_lista={lista: float(input(f\"Ingrese la altura del salto: \")) for lista in lista}\n",
        "  distancia= sorted(dic_lista.values())\n",
        "  mayor=distancia[-1]\n",
        "  print(\"--------------\")\n",
        "  print(f\"Atleta {nombre}:\")\n",
        "  print(dic_lista)\n",
        "  sum=0\n",
        "  for i in dic_lista.values():\n",
        "    sum+=i\n",
        "  prom=sum/a\n",
        "  redprom=round(prom,2)\n",
        "  print(f\"El promedio de los {a} saltos es de {redprom} metros, teniendo que el mayor fue aquel con {mayor} metros de altura\")\n",
        "\n",
        "fun(nombre, N)"
      ],
      "metadata": {
        "colab": {
          "base_uri": "https://localhost:8080/"
        },
        "id": "w70HSOrub4CJ",
        "outputId": "90a9eca6-1c55-4d86-a37e-b58268cb870f"
      },
      "execution_count": 33,
      "outputs": [
        {
          "output_type": "stream",
          "name": "stdout",
          "text": [
            "ingrese el nombre del atleta: juan\n",
            "ingrese el número de saltos: 1\n",
            "--------------\n",
            "La altura de los saltos se mide en metros\n",
            "Ingrese la altura del salto: 5\n",
            "--------------\n",
            "Atleta juan:\n",
            "{'salto 1': 5.0}\n",
            "El promedio de los 1 saltos es de 5.0 metros, teniendo que el mayor fue aquel con 5.0 metros de altura\n"
          ]
        }
      ]
    },
    {
      "cell_type": "code",
      "source": [
        "#Lambda\n",
        "from functools import reduce\n",
        "\n",
        "nombre=str(input(\"ingrese el nombre del atleta: \"))\n",
        "N=int(input(\"ingrese el número de saltos: \"))\n",
        "\n",
        "lista=[]\n",
        "for i in range(0,a):\n",
        "  name=str(f\"salto {i+1}\")\n",
        "  lista.append(name)\n",
        "\n",
        "print(\"--------------\")\n",
        "print(\"La altura de los saltos se mide en metros\")\n",
        "dic_lista={lista: float(input(f\"Ingrese la altura del salto: \")) for lista in lista}\n",
        "distancia= sorted(dic_lista.values())\n",
        "mayor=distancia[-1]\n",
        "print(\"--------------\")\n",
        "print(f\"Atleta {nombre}:\")\n",
        "print(dic_lista)\n",
        "\n",
        "sum=reduce(lambda distancia,distancia1:distancia+distancia1, distancia)\n",
        "\n",
        "prom=float(sum)/a\n",
        "redprom=round(prom, 2)\n",
        "print(f\"El promedio de los {a} saltos es de {redprom} metros, teniendo que el mayor fue aquel con {mayor} metros de altura\")"
      ],
      "metadata": {
        "id": "7Wh6RaUvgUO0"
      },
      "execution_count": null,
      "outputs": []
    },
    {
      "cell_type": "markdown",
      "source": [
        "##Ejemplos de Santiago Galindo"
      ],
      "metadata": {
        "id": "l9HhDaKkhyW6"
      }
    },
    {
      "cell_type": "code",
      "source": [
        "from typing_extensions import DefaultDict\n",
        "import random \n",
        "cs=[\"Andru\",\"David\",\"Sebas\"]\n",
        "CS=[\"Andres\",\"Flowey\",\"Cata\",\"Karen\"]\n",
        "DD={cs:random.randint(1,50) for cs in cs}\n",
        "DD1={CS:random.randint(1,50) for CS in CS}\n",
        "print(DD,DD1)"
      ],
      "metadata": {
        "id": "i0DUTKPIh2uC"
      },
      "execution_count": null,
      "outputs": []
    },
    {
      "cell_type": "code",
      "source": [
        "from typing_extensions import DefaultDict\n",
        "import random \n",
        "def A ():\n",
        " cs=[\"Andru\",\"David\",\"Sebas\"]\n",
        " CS=[\"Andres\",\"Flowey\",\"Cata\",\"Karen\"]\n",
        " DD={cs:random.randint(1,50) for cs in cs}\n",
        " DD1={CS:random.randint(1,50) for CS in CS}\n",
        " return DD,DD1\n",
        "\n",
        "A()"
      ],
      "metadata": {
        "id": "jE9u_HZXjUAj"
      },
      "execution_count": null,
      "outputs": []
    },
    {
      "cell_type": "code",
      "source": [
        "from typing_extensions import DefaultDict\n",
        "import random \n",
        "cs=[\"Andru\",\"David\",\"Sebas\"]\n",
        "CS=[\"Andres\",\"Flowey\",\"Cata\",\"Karen\"]\n",
        "DD= (dict(map(lambda DD:(DD,random.randint(1,50)), cs)))\n",
        "DD1= (dict(map(lambda DD1:(DD1,random.randint(1,50)), CS)))\n",
        "\n",
        "print(DD,DD1)"
      ],
      "metadata": {
        "id": "F5Qf-X2rjk1y"
      },
      "execution_count": null,
      "outputs": []
    },
    {
      "cell_type": "markdown",
      "source": [
        "##Ejemplos de Juan Zuluaga "
      ],
      "metadata": {
        "id": "74as9aWcknf4"
      }
    },
    {
      "cell_type": "code",
      "source": [
        "import random \n",
        "listado_numerico=[]\n",
        "while True:\n",
        "  nombres=str(input(\"¿Ingrese el nombre del cliente?: \"))\n",
        "  listado_numerico.append(nombres)\n",
        "  confirmador=str(input(\"¿Hubo más clientes el día de hoy?: \"))\n",
        "  confirmador.lower()\n",
        "  if confirmador==\"no\":\n",
        "    break \n",
        "print(listado_numerico)\n",
        "catalogocomp={listado_numerico: random.randint(100,5000) for listado_numerico in listado_numerico}\n",
        "\n",
        "costes=sorted(catalogocomp)\n",
        "\n",
        "mayor=max(catalogocomp,key=catalogocomp.get)\n",
        "\n",
        "gastos=sum(catalogocomp.values())*0.8 if sum(catalogocomp.values())>10000 else sum(catalogocomp.values())\n",
        "print(mayor)\n",
        "\n",
        "descuentos_prod=[0.6,0,8,0.5]\n",
        "catalogo_descuento={listado_numerico:random.choice(descuentos_prod)*random.randint(100,5000) for listado_numerico in listado_numerico if random.randint(100,5000)>4500}"
      ],
      "metadata": {
        "colab": {
          "base_uri": "https://localhost:8080/"
        },
        "id": "9t4_txdokrN_",
        "outputId": "5a75c7cb-1b24-48f3-fb3f-e653090161df"
      },
      "execution_count": 44,
      "outputs": [
        {
          "output_type": "stream",
          "name": "stdout",
          "text": [
            "¿Ingrese el nombre del cliente?: juna\n",
            "¿Hubo más clientes el día de hoy?: no\n",
            "['juna']\n",
            "juna\n"
          ]
        }
      ]
    },
    {
      "cell_type": "markdown",
      "source": [
        "##Ejemplos de Juan Arenales"
      ],
      "metadata": {
        "id": "vUUs3ezYm1t6"
      }
    },
    {
      "cell_type": "code",
      "source": [
        "#Comprensión \n",
        "import pandas as pd \n",
        "import random \n",
        "def menu(C,E,N, n):\n",
        "  b=int(input(\"Menú:\\n1) Añadir contacto\\n2) Eliminar contacto\\n3)Lista de contacto\\n4)Darle emojis aleatorios\\n\"))\n",
        "  if b==1: #Añade contactos\n",
        "    d=input(\"Nombre: \") #Ingresa el nombre \n",
        "    f=d in N #si el nombre ya esta en los contactos f es True, si no, es false\n",
        "    while f==True:\n",
        "      d=input(\"Ya existe un contacto con ese nombre, escoja otro: \")\n",
        "      f=d in C[\"Nombre\"]\n",
        "    e=input(\"Número: \") #ingrese el numero \n",
        "    N.append(d) #Añade el nombre a la lista N\n",
        "    n.append(e) #Añade el numero a la lista n \n",
        "  if b==2: #Elimina contactos \n",
        "    o=int(input(\"1)Eliminar por nombre\\n2)Eliminar por número\\n\")) #Da dos opciones para eliminar un contacto \n",
        "    if o==1: #Eliminar por nombre\n",
        "      d=input(\"Nombre: \") #ingresa el nombre\n",
        "      f=d in N #si el nombre ya esta en los contactos f es True, si no, es false \n",
        "      if f==False: #si ese contacto ya no existe en la lista \n",
        "          print(\"No existe un contacto con ese nombre\")\n",
        "      else:\n",
        "        i=N.index(d)\n",
        "        N.pop(i)\n",
        "        n.pop(i)\n",
        "  if o==2:\n",
        "    e=input(\"Número: \")\n",
        "    h= e in N  \n",
        "    if h==False:\n",
        "          print(\"No existe un contacto con ese número\")\n",
        "    else:\n",
        "      i=n.index(e)\n",
        "      N.pop(i)\n",
        "      n.pop(i)\n",
        "  if b==3:\n",
        "    C={N[z]: n[z] for z in range(len(N)) }\n",
        "    print(C)\n",
        "  if b==4:\n",
        "    C={N[z]: (n[z], E[random.randint(0,3)]) for z in range(len(N))}\n",
        "    print(pd.DataFrame.from_dict(C))#La imprime bonito con pandas\n",
        "\n",
        "    return C\n",
        "\n",
        "C = {}\n",
        "E = ['B)', ':)', '<3', '>:v'] #Emojis\n",
        "N = ['Juan', 'Kyle']#Nombres default\n",
        "n = ['453', '64782']#Números default\n",
        "\n",
        "a = True\n",
        "while a == True:\n",
        "  menu(C,E,N,n)\n",
        "\n"
      ],
      "metadata": {
        "id": "jFILrNegm8Bw"
      },
      "execution_count": null,
      "outputs": []
    },
    {
      "cell_type": "code",
      "source": [
        "#lambda\n",
        "import pandas as pd\n",
        "import random\n",
        "def menu(C,E,N,n):\n",
        "  b = int(input('Menú; \\n1) Añadir contacto \\n2) Eliminar contacto \\n4) Darle emojis aleatorios \\n'))\n",
        "  if b == 1: #Añade contactos\n",
        "    d = input('Nombre ') #Ingresa el nombre\n",
        "    f = d in N #Si el nombre ya esta en los contactos f es True, sino es false\n",
        "    while f==True:\n",
        "      d = input('Ya existe un contacto con ese nombre, escoja otro ')\n",
        "      f = d in C['Nombre']\n",
        "    e = input('Numero ') #Ingresa el numero\n",
        "    N.append(d) #Añade el nombre de la lista N\n",
        "    n.append(e) #Añade el numero a la lista n\n",
        "  if b==2: #Elimina contactos\n",
        "    o = int(input('1) Eliminar por nombre \\n2) Eliminar por número\\n')) #Da dos opciones para eliminar un contacto\n",
        "    if o == 1: #Eliminar por nombre\n",
        "      d = input('Nombre ') #Ingresa el nombre\n",
        "      f = d in N #Si el nombre ya esta en los contactos f es True, sino es false\n",
        "      if f==False: #Si ese contacto no existe en la lista\n",
        "        print(\"No existe un contacto con ese nombre\")\n",
        "      else:\n",
        "        i=N.index(d) #Busca la posición del Nombre\n",
        "        N.pop(i) #Elimina el nombre en esa posición\n",
        "        n.pop(i) #Elimina el nombre en esa posición\n",
        "    if o==2: #Eliminar por numero\n",
        "      e = input(\"Numero \") #Ingresa el número\n",
        "      h = e in N #Si el numero ya esta en los contactos h es True, sino es false\n",
        "      if h == False: #Si ese contacto no existe en la lista\n",
        "        print(\"No existe un contacto con ese numero\")\n",
        "      else:\n",
        "        i=n.index(e) #Busca la posición del Nombre\n",
        "        N.pop(i) #Elimina el nombre de esa posición\n",
        "        n.pop(i) #Elimina el número en esa posición\n",
        "    if b == 3: #Imprime la lista de contactos\n",
        "      C = dict(map(lambda Nombre: (Nombre, n[N.index(Nombre)]),N)) #Lambda\n",
        "      print(C)\n",
        "    if b == 4: #Le da emojis aleatorios a los contactos\n",
        "      C = dict(map(lambda Nombre:(Nombre, (n[N.index(Nombre)], E[random.randint(0,3)])),N)) #Lambda\n",
        "      print(pd.DataFrame.from_dict(C))#La imprime bonito con pandas\n",
        "\n",
        "    return C\n",
        "\n",
        "C = {}\n",
        "E = ['B)', ':)', '<3', '>:v'] #Emojis\n",
        "N = ['Juan', 'Kyle']#Nombres default\n",
        "n = ['453', '64782']#Números default\n",
        "\n",
        "a = True\n",
        "while a == True:\n",
        "  menu(C,E,N,n)"
      ],
      "metadata": {
        "id": "oSyrvYHbsXZd"
      },
      "execution_count": null,
      "outputs": []
    }
  ]
}